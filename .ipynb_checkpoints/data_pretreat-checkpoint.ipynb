{
 "cells": [
  {
   "cell_type": "code",
   "execution_count": 1,
   "metadata": {},
   "outputs": [],
   "source": [
    "from scipy.io import loadmat\n",
    "import matplotlib.pyplot as plt\n",
    "import numpy as np"
   ]
  },
  {
   "cell_type": "code",
   "execution_count": 3,
   "metadata": {},
   "outputs": [],
   "source": [
    "def handle_data(train_scale=0.5):\n",
    "    data_corrected=loadmat('Indian_pines_corrected.mat')\n",
    "    data_gt=loadmat('Indian_pines_gt.mat')\n",
    "    indian_pines_corrected=data_corrected['indian_pines_corrected']\n",
    "    indian_pines_gt=data_gt['indian_pines_gt']\n",
    "    #print(indian_pines.shape)\n",
    "    print(indian_pines_corrected.shape)\n",
    "    print(indian_pines_gt.shape)\n",
    "    data_x=indian_pines_corrected.reshape(21025,200)\n",
    "    data_y=indian_pines_gt.reshape(21025,1)\n",
    "    print(data_x.shape)\n",
    "    print(data_y.shape)\n",
    "\n",
    "    #训练集比例\n",
    "    #train_scale=0.5\n",
    "    train_class=16\n",
    "    train_x=np.zeros((0,200))\n",
    "    train_y=np.zeros((0,1))\n",
    "    test_x=np.zeros((0,200))\n",
    "    test_y=np.zeros((0,1))\n",
    "\n",
    "\n",
    "    for i in range (1,17):\n",
    "        #print(data_y[0:100,0])\n",
    "        np.random.seed(i)\n",
    "        #提取每类数据\n",
    "        temp_y=np.array(data_y[:,0]==i).astype(int).reshape(-1,1)\n",
    "        temp_y=np.multiply(temp_y,data_y)\n",
    "        y=temp_y[np.flatnonzero(temp_y),:]\n",
    "        x=data_x[np.flatnonzero(temp_y),:]\n",
    "        #print(y.shape)\n",
    "        #print(x[:,1])\n",
    "\n",
    "        #打乱数据集\n",
    "        permutation = np.random.permutation(y.shape[0])\n",
    "        x = x[permutation, :]\n",
    "        #print(x[:,1])\n",
    "\n",
    "        #构造训练集和测试集\n",
    "        train_set_number=int(y.shape[0]*train_scale)\n",
    "        train_x_batch=x[0:train_set_number,:]\n",
    "        test_x_batch=x[train_set_number:,:]\n",
    "        train_y_batch=y[0:train_set_number,:]\n",
    "        test_y_batch=y[train_set_number:,:]\n",
    "\n",
    "        train_x=np.concatenate((train_x,train_x_batch), axis=0)\n",
    "        train_y=np.concatenate((train_y,train_y_batch), axis=0)\n",
    "        test_x=np.concatenate((test_x,test_x_batch), axis=0)\n",
    "        test_y=np.concatenate((test_y,test_y_batch), axis=0)   \n",
    "\n",
    "    #打乱训练集\n",
    "    np.random.seed(5)\n",
    "    per_train_all = np.random.permutation(train_y.shape[0])\n",
    "    train_x = train_x[per_train_all, :]\n",
    "    train_y = train_y[per_train_all, :]\n",
    "    \n",
    "    return train_x,train_y,test_x,train_y"
   ]
  },
  {
   "cell_type": "code",
   "execution_count": null,
   "metadata": {},
   "outputs": [],
   "source": []
  }
 ],
 "metadata": {
  "kernelspec": {
   "display_name": "Python 3",
   "language": "python",
   "name": "python3"
  },
  "language_info": {
   "codemirror_mode": {
    "name": "ipython",
    "version": 3
   },
   "file_extension": ".py",
   "mimetype": "text/x-python",
   "name": "python",
   "nbconvert_exporter": "python",
   "pygments_lexer": "ipython3",
   "version": "3.5.2"
  }
 },
 "nbformat": 4,
 "nbformat_minor": 2
}
