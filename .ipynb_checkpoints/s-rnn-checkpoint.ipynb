{
 "cells": [
  {
   "cell_type": "code",
   "execution_count": 1,
   "metadata": {},
   "outputs": [
    {
     "name": "stderr",
     "output_type": "stream",
     "text": [
      "Using TensorFlow backend.\n"
     ]
    }
   ],
   "source": [
    "# import tensorflow as tf\n",
    "# from tensorflow.keras import backend as k\n",
    "# from tensorflow import keras\n",
    "from keras import backend as k\n",
    "from keras.models import Sequential\n",
    "from keras.layers import Dense, Dropout, Flatten, Conv2D, MaxPooling2D\n",
    "from keras.utils import np_utils\n",
    "from keras.layers.recurrent import SimpleRNN\n",
    "from keras.optimizers import Adam\n",
    "\n",
    "import matplotlib.pyplot as plt\n",
    "import numpy as np\n",
    "from tensorflow.keras.datasets import mnist\n",
    "from sklearn.decomposition import PCA\n",
    "from data_pretreat import handle_data\n",
    "from PIL import Image\n",
    "\n",
    "k.set_image_data_format('channels_last')"
   ]
  },
  {
   "cell_type": "code",
   "execution_count": 2,
   "metadata": {},
   "outputs": [
    {
     "name": "stdout",
     "output_type": "stream",
     "text": [
      "(6143, 200)\n",
      "(6143, 1)\n",
      "(4106, 200)\n",
      "(4106, 1)\n"
     ]
    }
   ],
   "source": [
    "train_x,train_y,test_x,test_y=handle_data(train_scale=0.6)\n",
    "print(train_x.shape)\n",
    "print(train_y.shape)\n",
    "print(test_x.shape)\n",
    "print(test_y.shape)\n",
    "\n",
    "num_classes=16"
   ]
  },
  {
   "cell_type": "code",
   "execution_count": 3,
   "metadata": {},
   "outputs": [],
   "source": [
    "#降维\n",
    "def pca(x,n=196):\n",
    "    pca=PCA(n_components=n)\n",
    "    new_train_x=pca.fit_transform(x)\n",
    "    return new_train_x"
   ]
  },
  {
   "cell_type": "code",
   "execution_count": 4,
   "metadata": {},
   "outputs": [
    {
     "name": "stdout",
     "output_type": "stream",
     "text": [
      "(6143, 196)\n",
      "(4106, 196)\n"
     ]
    }
   ],
   "source": [
    "data_all=np.r_[train_x,test_x]\n",
    "data_all=data_all/np.max(data_all)\n",
    "data_all=pca(data_all)\n",
    "train_x=data_all[0:train_x.shape[0],:]\n",
    "test_x=data_all[train_x.shape[0]:,:]\n",
    "print(train_x.shape)\n",
    "print(test_x.shape)\n",
    "train_x=train_x.reshape(train_x.shape[0],14,14)\n",
    "#train_x=np.expand_dims(train_x,axis=3)\n",
    "test_x=test_x.reshape(test_x.shape[0],14,14)\n",
    "#test_x=np.expand_dims(test_x,axis=3)"
   ]
  },
  {
   "cell_type": "code",
   "execution_count": 5,
   "metadata": {},
   "outputs": [
    {
     "name": "stdout",
     "output_type": "stream",
     "text": [
      "(6143, 14, 14)\n",
      "(6143, 16)\n",
      "(4106, 14, 14)\n",
      "(4106, 16)\n"
     ]
    }
   ],
   "source": [
    "#one-hot\n",
    "train_y=np_utils.to_categorical(train_y)[:,1:17]\n",
    "test_y =np_utils.to_categorical(test_y)[:,1:17]\n",
    "print(train_x.shape)\n",
    "print(train_y.shape)\n",
    "print(test_x.shape)\n",
    "print(test_y.shape)"
   ]
  },
  {
   "cell_type": "code",
   "execution_count": 6,
   "metadata": {},
   "outputs": [],
   "source": [
    "input_size = 14    # 数据长度-一行有14个像素\n",
    "time_steps = 14    # 序列长度-一共有14行\n",
    "cell_size = 256     # 隐藏层cell个数"
   ]
  },
  {
   "cell_type": "code",
   "execution_count": 7,
   "metadata": {},
   "outputs": [],
   "source": [
    "def s_rnn_model(time_steps,input_size,num_classes=16):\n",
    "    model = Sequential()\n",
    "    model.add(SimpleRNN(units=256, input_shape=(time_steps, input_size)))\n",
    "    model.add(Dense(128, activation='tanh'))\n",
    "    model.add(Dropout(0.25))\n",
    "    model.add(Dense(num_classes, activation='softmax'))\n",
    "    model.summary()\n",
    "    return model"
   ]
  },
  {
   "cell_type": "code",
   "execution_count": 8,
   "metadata": {},
   "outputs": [
    {
     "name": "stdout",
     "output_type": "stream",
     "text": [
      "WARNING:tensorflow:From /usr/local/lib/python3.5/dist-packages/tensorflow/python/framework/op_def_library.py:263: colocate_with (from tensorflow.python.framework.ops) is deprecated and will be removed in a future version.\n",
      "Instructions for updating:\n",
      "Colocations handled automatically by placer.\n",
      "_________________________________________________________________\n",
      "Layer (type)                 Output Shape              Param #   \n",
      "=================================================================\n",
      "simple_rnn_1 (SimpleRNN)     (None, 256)               69376     \n",
      "_________________________________________________________________\n",
      "dense_1 (Dense)              (None, 128)               32896     \n",
      "_________________________________________________________________\n",
      "dense_2 (Dense)              (None, 16)                2064      \n",
      "=================================================================\n",
      "Total params: 104,336\n",
      "Trainable params: 104,336\n",
      "Non-trainable params: 0\n",
      "_________________________________________________________________\n",
      "(6143, 14, 14)\n",
      "(6143, 16)\n",
      "(4106, 14, 14)\n",
      "(4106, 16)\n",
      "WARNING:tensorflow:From /usr/local/lib/python3.5/dist-packages/tensorflow/python/ops/math_ops.py:3066: to_int32 (from tensorflow.python.ops.math_ops) is deprecated and will be removed in a future version.\n",
      "Instructions for updating:\n",
      "Use tf.cast instead.\n",
      "Epoch 1/70\n",
      "6143/6143 [==============================] - 3s 408us/step - loss: 1.3428 - acc: 0.5331\n",
      "Epoch 2/70\n",
      "6143/6143 [==============================] - 2s 271us/step - loss: 1.0195 - acc: 0.6352\n",
      "Epoch 3/70\n",
      "6143/6143 [==============================] - 2s 276us/step - loss: 0.8853 - acc: 0.6801\n",
      "Epoch 4/70\n",
      "6143/6143 [==============================] - 2s 276us/step - loss: 0.7930 - acc: 0.7154\n",
      "Epoch 5/70\n",
      "6143/6143 [==============================] - 2s 279us/step - loss: 0.7458 - acc: 0.7268\n",
      "Epoch 6/70\n",
      "6143/6143 [==============================] - 2s 276us/step - loss: 0.7264 - acc: 0.7363\n",
      "Epoch 7/70\n",
      "6143/6143 [==============================] - 2s 293us/step - loss: 0.6534 - acc: 0.7618\n",
      "Epoch 8/70\n",
      "6143/6143 [==============================] - 2s 268us/step - loss: 0.6093 - acc: 0.7763\n",
      "Epoch 9/70\n",
      "6143/6143 [==============================] - 2s 274us/step - loss: 0.6227 - acc: 0.7747\n",
      "Epoch 10/70\n",
      "6143/6143 [==============================] - 2s 275us/step - loss: 0.5666 - acc: 0.7970\n",
      "Epoch 11/70\n",
      "6143/6143 [==============================] - 2s 283us/step - loss: 0.5356 - acc: 0.8095\n",
      "Epoch 12/70\n",
      "6143/6143 [==============================] - 2s 279us/step - loss: 0.5357 - acc: 0.8115\n",
      "Epoch 13/70\n",
      "6143/6143 [==============================] - 2s 308us/step - loss: 0.5128 - acc: 0.8174\n",
      "Epoch 14/70\n",
      "6143/6143 [==============================] - 2s 295us/step - loss: 0.5103 - acc: 0.8164\n",
      "Epoch 15/70\n",
      "6143/6143 [==============================] - 2s 303us/step - loss: 0.4775 - acc: 0.8266\n",
      "Epoch 16/70\n",
      "6143/6143 [==============================] - 2s 294us/step - loss: 0.4719 - acc: 0.8266\n",
      "Epoch 17/70\n",
      "6143/6143 [==============================] - 2s 276us/step - loss: 0.4510 - acc: 0.8384\n",
      "Epoch 18/70\n",
      "6143/6143 [==============================] - 2s 278us/step - loss: 0.4484 - acc: 0.8349\n",
      "Epoch 19/70\n",
      "6143/6143 [==============================] - 2s 288us/step - loss: 0.4225 - acc: 0.8423\n",
      "Epoch 20/70\n",
      "6143/6143 [==============================] - 2s 279us/step - loss: 0.4122 - acc: 0.8548\n",
      "Epoch 21/70\n",
      "6143/6143 [==============================] - 2s 276us/step - loss: 0.4158 - acc: 0.8545\n",
      "Epoch 22/70\n",
      "6143/6143 [==============================] - 2s 277us/step - loss: 0.3976 - acc: 0.8527\n",
      "Epoch 23/70\n",
      "6143/6143 [==============================] - 2s 288us/step - loss: 0.3861 - acc: 0.8626\n",
      "Epoch 24/70\n",
      "6143/6143 [==============================] - 2s 281us/step - loss: 0.4102 - acc: 0.8545\n",
      "Epoch 25/70\n",
      "6143/6143 [==============================] - 2s 281us/step - loss: 0.3732 - acc: 0.8662\n",
      "Epoch 26/70\n",
      "6143/6143 [==============================] - 2s 280us/step - loss: 0.3672 - acc: 0.8677\n",
      "Epoch 27/70\n",
      "6143/6143 [==============================] - 2s 269us/step - loss: 0.3949 - acc: 0.8530\n",
      "Epoch 28/70\n",
      "6143/6143 [==============================] - 2s 278us/step - loss: 0.3586 - acc: 0.8725\n",
      "Epoch 29/70\n",
      "6143/6143 [==============================] - 2s 275us/step - loss: 0.3515 - acc: 0.8753\n",
      "Epoch 30/70\n",
      "6143/6143 [==============================] - 2s 274us/step - loss: 0.3684 - acc: 0.8681\n",
      "Epoch 31/70\n",
      "6143/6143 [==============================] - 2s 273us/step - loss: 0.3270 - acc: 0.8804\n",
      "Epoch 32/70\n",
      "6143/6143 [==============================] - 2s 276us/step - loss: 0.3532 - acc: 0.8722\n",
      "Epoch 33/70\n",
      "6143/6143 [==============================] - 2s 272us/step - loss: 0.3491 - acc: 0.8707\n",
      "Epoch 34/70\n",
      "6143/6143 [==============================] - 2s 274us/step - loss: 0.3146 - acc: 0.8807\n",
      "Epoch 35/70\n",
      "6143/6143 [==============================] - 2s 276us/step - loss: 0.3040 - acc: 0.8913\n",
      "Epoch 36/70\n",
      "6143/6143 [==============================] - 2s 274us/step - loss: 0.3293 - acc: 0.8790\n",
      "Epoch 37/70\n",
      "6143/6143 [==============================] - 2s 276us/step - loss: 0.3336 - acc: 0.8825\n",
      "Epoch 38/70\n",
      "6143/6143 [==============================] - 2s 280us/step - loss: 0.3203 - acc: 0.8804\n",
      "Epoch 39/70\n",
      "6143/6143 [==============================] - 2s 276us/step - loss: 0.2951 - acc: 0.8935\n",
      "Epoch 40/70\n",
      "6143/6143 [==============================] - 2s 277us/step - loss: 0.2977 - acc: 0.8955\n",
      "Epoch 41/70\n",
      "6143/6143 [==============================] - 2s 278us/step - loss: 0.3194 - acc: 0.8859\n",
      "Epoch 42/70\n",
      "6143/6143 [==============================] - 2s 277us/step - loss: 0.2960 - acc: 0.8922\n",
      "Epoch 43/70\n",
      "6143/6143 [==============================] - 2s 278us/step - loss: 0.3277 - acc: 0.8831\n",
      "Epoch 44/70\n",
      "6143/6143 [==============================] - 2s 275us/step - loss: 0.3011 - acc: 0.8950\n",
      "Epoch 45/70\n",
      "6143/6143 [==============================] - 2s 275us/step - loss: 0.2995 - acc: 0.8971\n",
      "Epoch 46/70\n",
      "6143/6143 [==============================] - 2s 271us/step - loss: 0.2943 - acc: 0.8909\n",
      "Epoch 47/70\n",
      "6143/6143 [==============================] - 2s 269us/step - loss: 0.2980 - acc: 0.8978\n",
      "Epoch 48/70\n",
      "6143/6143 [==============================] - 2s 275us/step - loss: 0.2921 - acc: 0.8934\n",
      "Epoch 49/70\n",
      "6143/6143 [==============================] - 2s 272us/step - loss: 0.2656 - acc: 0.9023\n",
      "Epoch 50/70\n",
      "6143/6143 [==============================] - 2s 276us/step - loss: 0.2788 - acc: 0.8981\n",
      "Epoch 51/70\n",
      "6143/6143 [==============================] - 2s 275us/step - loss: 0.2555 - acc: 0.9064\n",
      "Epoch 52/70\n",
      "6143/6143 [==============================] - 2s 276us/step - loss: 0.2667 - acc: 0.9028\n",
      "Epoch 53/70\n",
      "6143/6143 [==============================] - 2s 275us/step - loss: 0.2579 - acc: 0.9043\n",
      "Epoch 54/70\n",
      "6143/6143 [==============================] - 2s 276us/step - loss: 0.2679 - acc: 0.9067\n",
      "Epoch 55/70\n",
      "6143/6143 [==============================] - 2s 280us/step - loss: 0.2489 - acc: 0.9101\n",
      "Epoch 56/70\n",
      "6143/6143 [==============================] - 2s 279us/step - loss: 0.2708 - acc: 0.9059\n",
      "Epoch 57/70\n",
      "6143/6143 [==============================] - 2s 272us/step - loss: 0.2637 - acc: 0.9062\n",
      "Epoch 58/70\n",
      "6143/6143 [==============================] - 2s 275us/step - loss: 0.2589 - acc: 0.9110\n",
      "Epoch 59/70\n",
      "6143/6143 [==============================] - 2s 283us/step - loss: 0.2919 - acc: 0.8942\n",
      "Epoch 60/70\n",
      "6143/6143 [==============================] - 2s 274us/step - loss: 0.2799 - acc: 0.8989\n",
      "Epoch 61/70\n",
      "6143/6143 [==============================] - 2s 280us/step - loss: 0.2450 - acc: 0.9142\n",
      "Epoch 62/70\n",
      "6143/6143 [==============================] - 2s 279us/step - loss: 0.2490 - acc: 0.9108\n",
      "Epoch 63/70\n",
      "6143/6143 [==============================] - 2s 280us/step - loss: 0.2555 - acc: 0.9084\n",
      "Epoch 64/70\n",
      "6143/6143 [==============================] - 2s 282us/step - loss: 0.2785 - acc: 0.8996\n",
      "Epoch 65/70\n",
      "6143/6143 [==============================] - 2s 277us/step - loss: 0.2472 - acc: 0.9113\n",
      "Epoch 66/70\n",
      "6143/6143 [==============================] - 2s 277us/step - loss: 0.2379 - acc: 0.9167\n",
      "Epoch 67/70\n",
      "6143/6143 [==============================] - 2s 277us/step - loss: 0.2780 - acc: 0.9030\n",
      "Epoch 68/70\n",
      "6143/6143 [==============================] - 2s 269us/step - loss: 0.2881 - acc: 0.8973\n",
      "Epoch 69/70\n"
     ]
    },
    {
     "name": "stdout",
     "output_type": "stream",
     "text": [
      "6143/6143 [==============================] - 2s 271us/step - loss: 0.2416 - acc: 0.9126\n",
      "Epoch 70/70\n",
      "6143/6143 [==============================] - 2s 263us/step - loss: 0.2285 - acc: 0.9202\n",
      "Saving model to disk \n",
      "\n",
      "4106/4106 [==============================] - 1s 159us/step\n",
      "loss: 0.7583871205159065\n",
      "accuracy: 0.7710667316413077\n"
     ]
    }
   ],
   "source": [
    "s_rnn_model=s_rnn_model(time_steps,input_size,num_classes)\n",
    "s_rnn_model.compile(loss='categorical_crossentropy',\n",
    "                  #optimizer=keras.optimizers.Adadelta(),\n",
    "                  optimizer=Adam(),\n",
    "                  metrics=['accuracy'])\n",
    "\n",
    "print(train_x.shape)\n",
    "print(train_y.shape)\n",
    "print(test_x.shape)\n",
    "print(test_y.shape)\n",
    "\n",
    "\n",
    "s_rnn_model.fit(train_x, train_y,\n",
    "            batch_size=32,\n",
    "            epochs=70,\n",
    "            verbose=1)\n",
    "\n",
    "\n",
    "print(\"Saving model to disk \\n\")\n",
    "path=\"s_rnn_model.h5\"\n",
    "s_rnn_model.save(path)\n",
    "\n",
    "loss,accuracy=s_rnn_model.evaluate(test_x, test_y)\n",
    "print('loss:', loss)\n",
    "print('accuracy:', accuracy)"
   ]
  },
  {
   "cell_type": "code",
   "execution_count": null,
   "metadata": {},
   "outputs": [],
   "source": []
  },
  {
   "cell_type": "code",
   "execution_count": null,
   "metadata": {},
   "outputs": [],
   "source": []
  },
  {
   "cell_type": "code",
   "execution_count": null,
   "metadata": {},
   "outputs": [],
   "source": []
  }
 ],
 "metadata": {
  "kernelspec": {
   "display_name": "Python 3",
   "language": "python",
   "name": "python3"
  },
  "language_info": {
   "codemirror_mode": {
    "name": "ipython",
    "version": 3
   },
   "file_extension": ".py",
   "mimetype": "text/x-python",
   "name": "python",
   "nbconvert_exporter": "python",
   "pygments_lexer": "ipython3",
   "version": "3.5.2"
  }
 },
 "nbformat": 4,
 "nbformat_minor": 2
}
